{
  "cells": [
    {
      "cell_type": "markdown",
      "metadata": {
        "id": "view-in-github",
        "colab_type": "text"
      },
      "source": [
        "<a href=\"https://colab.research.google.com/github/MummadiMallamma/Natural-Language-processing/blob/main/Copy_of_text_summarization.ipynb\" target=\"_parent\"><img src=\"https://colab.research.google.com/assets/colab-badge.svg\" alt=\"Open In Colab\"/></a>"
      ]
    },
    {
      "cell_type": "code",
      "execution_count": null,
      "metadata": {
        "id": "fO8LMSRSieaF"
      },
      "outputs": [],
      "source": [
        "import pandas as pd"
      ]
    },
    {
      "cell_type": "code",
      "execution_count": null,
      "metadata": {
        "colab": {
          "base_uri": "https://localhost:8080/"
        },
        "id": "3wmuKHuVsnY3",
        "outputId": "5f85a9cb-ad1a-450b-d8f9-5bdfb2e5685a"
      },
      "outputs": [
        {
          "name": "stderr",
          "output_type": "stream",
          "text": [
            "[nltk_data] Downloading package stopwords to /root/nltk_data...\n",
            "[nltk_data]   Package stopwords is already up-to-date!\n",
            "[nltk_data] Downloading package punkt to /root/nltk_data...\n",
            "[nltk_data]   Package punkt is already up-to-date!\n"
          ]
        },
        {
          "data": {
            "text/plain": [
              "True"
            ]
          },
          "execution_count": 2,
          "metadata": {},
          "output_type": "execute_result"
        }
      ],
      "source": [
        "# importing libraries\n",
        "import nltk\n",
        "from nltk.corpus import stopwords\n",
        "from nltk.tokenize import word_tokenize, sent_tokenize\n",
        "nltk.download('stopwords')\n",
        "nltk.download('punkt')\n"
      ]
    },
    {
      "cell_type": "code",
      "execution_count": null,
      "metadata": {
        "id": "To1qmpJcs3il"
      },
      "outputs": [],
      "source": [
        "# Input text - to summarize\n",
        "text=pd.read_fwf('/content/A.P.J.txt',delimiter=\" \")"
      ]
    },
    {
      "cell_type": "code",
      "execution_count": null,
      "metadata": {
        "colab": {
          "base_uri": "https://localhost:8080/",
          "height": 110
        },
        "id": "1nd0XVQmsrw-",
        "outputId": "9b7443c8-8e0d-4b51-bd4e-7c3ac15b3117"
      },
      "outputs": [
        {
          "data": {
            "application/vnd.google.colaboratory.intrinsic+json": {
              "type": "string"
            },
            "text/plain": [
              "'   A.P.J. Abdul  \\\\\\n0  Kalam earned   \\n\\n  Kalam, in full Avul Pakir Jainulabdeen Abdul Kalam, (born October  \\\\\\n0  a degree in aeronautical engineering from the ...                  \\n\\n   15, 1931, Rameswaram, India—died July 27,  \\\\\\n0  Technology and in 1958 joined the Defence   \\n\\n   2015, Shillong), Indian scientist and  politician  who played a leading  \\\\\\n0  Research and Development Organisation  (DRDO). In  1969 he moved to the   \\n\\n  role in the development of India’s missile and nuclear weapons programs.  \\\\\\n0  Indian Space Research Organisation, where he w...                         \\n\\n   He was president of India from 2002      to 2007. Unnamed: 9  ...  \\\\\\n0  SLV-III, the first satellite launch  vehicle that        was  ...   \\n\\n  Unnamed: 318 Unnamed: 319 Unnamed: 320 Unnamed: 321 Unnamed: 322  \\\\\\n0     Shillong          and          was   pronounced         dead   \\n\\n  Unnamed: 323 Unnamed: 324 Unnamed: 325 Unnamed: 326 Unnamed: 327  \\n0         from      cardiac       arrest         soon   afterward.  \\n\\n[1 rows x 328 columns]'"
            ]
          },
          "execution_count": 4,
          "metadata": {},
          "output_type": "execute_result"
        }
      ],
      "source": [
        "text=str(text)\n",
        "text\n"
      ]
    },
    {
      "cell_type": "markdown",
      "metadata": {
        "id": "dlK0DBn56unZ"
      },
      "source": []
    },
    {
      "cell_type": "code",
      "execution_count": null,
      "metadata": {
        "id": "zCOIQn8pikNG"
      },
      "outputs": [],
      "source": [
        "\n",
        "# Tokenizing the text\n",
        "stopWords = set(stopwords.words(\"english\"))\n",
        "words = word_tokenize(text)\n",
        "\n",
        "# Creating a frequency table to keep the\n",
        "# score of each word\n",
        "\n",
        "freqTable = dict()\n",
        "for word in words:\n",
        "\tword = word.lower()\n",
        "\tif word in stopWords:\n",
        "\t\tcontinue\n",
        "\tif word in freqTable:\n",
        "\t\tfreqTable[word] += 1\n",
        "\telse:\n",
        "\t\tfreqTable[word] = 1\n",
        "\n",
        "# Creating a dictionary to keep the score\n",
        "# of each sentence\n"
      ]
    },
    {
      "cell_type": "code",
      "execution_count": null,
      "metadata": {
        "colab": {
          "background_save": true
        },
        "id": "NZNItliHi8em"
      },
      "outputs": [],
      "source": [
        "sentences = sent_tokenize(text)\n",
        "sentenceValue = dict()\n",
        "\n",
        "for sentence in sentences:\n",
        "\tfor word, freq in freqTable.items():\n",
        "\t\tif word in sentence.lower():\n",
        "\t\t\tif sentence in sentenceValue:\n",
        "\t\t\t\tsentenceValue[sentence] += freq\n",
        "\t\t\telse:\n",
        "\t\t\t\tsentenceValue[sentence] = freq\n",
        "\n",
        "\n"
      ]
    },
    {
      "cell_type": "code",
      "execution_count": null,
      "metadata": {
        "colab": {
          "background_save": true
        },
        "id": "aszMJ0jW7liM",
        "outputId": "fa7bd45f-5c31-4c2b-fd7e-e2576b9c3f58"
      },
      "outputs": [
        {
          "name": "stdout",
          "output_type": "stream",
          "text": [
            " Abdul  \\\n",
            "0  Kalam earned   \n",
            "\n",
            "  Kalam, in full Avul Pakir Jainulabdeen Abdul Kalam, (born October  \\\n",
            "0  a degree in aeronautical engineering from the ...                  \n",
            "\n",
            "   15, 1931, Rameswaram, India—died July 27,  \\\n",
            "0  Technology and in 1958 joined the Defence   \n",
            "\n",
            "   2015, Shillong), Indian scientist and  politician  who played a leading  \\\n",
            "0  Research and Development Organisation  (DRDO). Unnamed: 9  ...  \\\n",
            "0  SLV-III, the first satellite launch  vehicle that        was  ... Unnamed: 318 Unnamed: 319 Unnamed: 320 Unnamed: 321 Unnamed: 322  \\\n",
            "0     Shillong          and          was   pronounced         dead   \n",
            "\n",
            "  Unnamed: 323 Unnamed: 324 Unnamed: 325 Unnamed: 326 Unnamed: 327  \n",
            "0         from      cardiac       arrest         soon   afterward.\n"
          ]
        }
      ],
      "source": [
        "\n",
        "sumValues = 0\n",
        "for sentence in sentenceValue:\n",
        "\tsumValues += sentenceValue[sentence]\n",
        "\n",
        "# Average value of a sentence from the original text\n",
        "\n",
        "average = int(sumValues / len(sentenceValue))\n",
        "\n",
        "# Storing sentences into our summary.\n",
        "summary = ''\n",
        "for sentence in sentences:\n",
        "\tif (sentence in sentenceValue) and (sentenceValue[sentence] > (1.2 * average)):\n",
        "\t\tsummary += \" \" + sentence\n",
        "    \n",
        "print(summary)\n"
      ]
    },
    {
      "cell_type": "code",
      "execution_count": null,
      "metadata": {
        "id": "YA18HOP17wcz"
      },
      "outputs": [],
      "source": []
    }
  ],
  "metadata": {
    "colab": {
      "provenance": [],
      "include_colab_link": true
    },
    "kernelspec": {
      "display_name": "Python 3",
      "name": "python3"
    },
    "language_info": {
      "name": "python"
    }
  },
  "nbformat": 4,
  "nbformat_minor": 0
}